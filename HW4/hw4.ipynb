{
 "cells": [
  {
   "cell_type": "code",
   "execution_count": 1,
   "outputs": [],
   "source": [
    "import re\n",
    "from os import environ\n",
    "from os.path import join as pj\n",
    "from typing import List, Tuple, Dict, Union\n",
    "\n",
    "import matplotlib.pyplot as plt\n",
    "import numpy as np\n",
    "import seaborn as sns\n",
    "import torch\n",
    "import torch.nn as nn\n",
    "from sklearn.metrics import classification_report, f1_score\n",
    "from tqdm.auto import tqdm as tqdm_original\n",
    "from transformers import AutoConfig, AutoModel\n",
    "from transformers import BertForSequenceClassification\n",
    "from transformers import BertTokenizer\n",
    "\n",
    "sns.set()\n",
    "\n",
    "\n",
    "def tqdm(*args, **kwargs):\n",
    "    return tqdm_original(*args, **kwargs, disable=environ.get(\"DISABLE_TQDM\", False))\n",
    "\n",
    "\n",
    "DATA_FOLDER = pj('thesis', 'NLP_Course', 'HW4', 'data')\n",
    "DEVICE = torch.device('cuda:1' if torch.cuda.is_available() else 'cpu')\n",
    "BATCH_SIZE = 8\n",
    "EPOCHS = 30\n",
    "LEARNING_RATE = 5e-05"
   ],
   "metadata": {
    "collapsed": false,
    "pycharm": {
     "name": "#%%\n"
    }
   }
  },
  {
   "cell_type": "code",
   "execution_count": 2,
   "outputs": [],
   "source": [
    "def read_data(filepath: str) -> List[Tuple[str, str]]:\n",
    "    with open(filepath, 'r') as file_handle:\n",
    "        file_data = file_handle.readlines()\n",
    "\n",
    "    indices_sentences = list(range(0, len(file_data), 4))  # Every 4 lines new input\n",
    "\n",
    "    sentences = list(map(lambda i: file_data[i].split('\\t')[1].strip('\"\\n '), indices_sentences))\n",
    "    labels = list(map(lambda i: file_data[i + 1].strip(), indices_sentences))\n",
    "    data = list(zip(sentences, labels))\n",
    "\n",
    "    return data\n",
    "\n",
    "\n",
    "_train = read_data(pj(DATA_FOLDER, 'TRAIN_FILE.TXT'))\n",
    "_test = read_data(pj(DATA_FOLDER, 'TEST_FILE_FULL.TXT'))"
   ],
   "metadata": {
    "collapsed": false,
    "pycharm": {
     "name": "#%%\n"
    }
   }
  },
  {
   "cell_type": "code",
   "execution_count": 3,
   "outputs": [
    {
     "name": "stderr",
     "output_type": "stream",
     "text": [
      "Some weights of the model checkpoint at bert-base-uncased were not used when initializing BertForSequenceClassification: ['cls.seq_relationship.weight', 'cls.predictions.transform.LayerNorm.bias', 'cls.predictions.transform.dense.bias', 'cls.predictions.decoder.weight', 'cls.predictions.transform.dense.weight', 'cls.seq_relationship.bias', 'cls.predictions.bias', 'cls.predictions.transform.LayerNorm.weight']\n",
      "- This IS expected if you are initializing BertForSequenceClassification from the checkpoint of a model trained on another task or with another architecture (e.g. initializing a BertForSequenceClassification model from a BertForPreTraining model).\n",
      "- This IS NOT expected if you are initializing BertForSequenceClassification from the checkpoint of a model that you expect to be exactly identical (initializing a BertForSequenceClassification model from a BertForSequenceClassification model).\n",
      "Some weights of BertForSequenceClassification were not initialized from the model checkpoint at bert-base-uncased and are newly initialized: ['classifier.weight', 'classifier.bias']\n",
      "You should probably TRAIN this model on a down-stream task to be able to use it for predictions and inference.\n"
     ]
    }
   ],
   "source": [
    "def create_label_mapper(data: List[Tuple[str, str]]) -> Dict[str, int]:\n",
    "    labels = list(map(lambda e: e[1], data))\n",
    "\n",
    "    reg = re.compile('\\(e[12],e[12]\\)')  # Remove (e1,e2) and (e2,e1)\n",
    "    labels = list(map(lambda label: reg.sub('', label), labels))\n",
    "\n",
    "    labels_set = sorted(list(set(labels)))\n",
    "    labels_dict = {label: i for i, label in enumerate(labels_set)}\n",
    "\n",
    "    return labels_dict\n",
    "\n",
    "\n",
    "_labels_dict = create_label_mapper(data=_train)\n",
    "NUM_LABELS = len(_labels_dict)\n",
    "\n",
    "_tokenizer = BertTokenizer.from_pretrained('bert-base-uncased', do_lower_case=True)\n",
    "_model = BertForSequenceClassification.from_pretrained('bert-base-uncased', num_labels=NUM_LABELS).to(DEVICE)"
   ],
   "metadata": {
    "collapsed": false,
    "pycharm": {
     "name": "#%%\n"
    }
   }
  },
  {
   "cell_type": "code",
   "execution_count": 4,
   "outputs": [],
   "source": [
    "def prepare_data(data: List[Tuple[str, str]], tokenizer: BertTokenizer, labels_dict: Dict[str, int],\n",
    "                 batch_size: int) -> List[Tuple[torch.Tensor, torch.Tensor, List[int]]]:\n",
    "    data_sequences = []\n",
    "    # TODO - your code...\n",
    "\n",
    "    batches = [data[idx:idx + batch_size] for idx in range(0, len(data), batch_size)]\n",
    "    for batch in batches:\n",
    "        reg = re.compile('<[?]?e[12]>')  # Remove <e1>, <e2>, </e1>, </e2>\n",
    "        sentences = list(map(lambda x: reg.sub('', x[0]), batch))\n",
    "\n",
    "        tokens = tokenizer(sentences, padding=True, truncation=True, return_tensors=\"pt\")\n",
    "        input_ids, attn_mask = tokens['input_ids'], tokens['attention_mask']\n",
    "\n",
    "        reg = re.compile('\\(e[12],e[12]\\)')  # Remove (e1,e2) and (e2,e1)\n",
    "        labels = list(map(lambda x: reg.sub('', x[1]), batch))\n",
    "        labels_indices = list(map(lambda label: labels_dict[label], labels))\n",
    "\n",
    "        data_sequences.append((input_ids, attn_mask, labels_indices))\n",
    "\n",
    "    return data_sequences\n",
    "\n",
    "\n",
    "_train_sequences = prepare_data(data=_train, tokenizer=_tokenizer, labels_dict=_labels_dict, batch_size=BATCH_SIZE)\n",
    "_test_sequences = prepare_data(data=_test, tokenizer=_tokenizer, labels_dict=_labels_dict, batch_size=BATCH_SIZE)"
   ],
   "metadata": {
    "collapsed": false,
    "pycharm": {
     "name": "#%%\n"
    }
   }
  },
  {
   "cell_type": "code",
   "execution_count": 5,
   "outputs": [],
   "source": [
    "def get_parameters(params) -> List[nn.Parameter]:\n",
    "    requires_grad_layers = [\"classifier\", \"pooler\", \"encoder.layer.9\", \"encoder.layer.10\",\n",
    "                            \"encoder.layer.11\", \"blanks_linear\", \"lm_linear\", \"cls\"]\n",
    "    layers = []\n",
    "    for name, param in params:\n",
    "        param.requires_grad = any([layer in name for layer in requires_grad_layers])\n",
    "        layers.append(param)\n",
    "\n",
    "    return layers\n",
    "\n",
    "\n",
    "def train_loop(model: BertForSequenceClassification, n_epochs: int,\n",
    "               train_data: List[Tuple[torch.Tensor, torch.Tensor, List[int]]],\n",
    "               test_data: Union[List[Tuple[torch.Tensor, torch.Tensor, List[int]]], None],\n",
    "               labels_dict: Dict[str, int], lr: float, produce_learning_graph: bool):\n",
    "    # Loss function\n",
    "    criterion = nn.CrossEntropyLoss()\n",
    "    optimizer = torch.optim.Adam(get_parameters(model.named_parameters()), lr=lr)\n",
    "    model.train()\n",
    "\n",
    "    get_f1 = lambda: evaluate(model=model, test_data=test_data, labels_dict=labels_dict,\n",
    "                              print_summary=False, get_f1_score=True)\n",
    "    f1_scores = [get_f1()] if produce_learning_graph else []\n",
    "\n",
    "    for _ in tqdm(range(n_epochs), 'Epochs'):\n",
    "        # TODO - your code goes here...\n",
    "\n",
    "        for step, batch in enumerate(train_data):\n",
    "            input_ids, attn_mask, labels = batch\n",
    "\n",
    "            input_ids = input_ids.to(DEVICE)\n",
    "            attn_mask = attn_mask.to(DEVICE)\n",
    "            labels = torch.tensor(labels).to(DEVICE)\n",
    "\n",
    "            model.zero_grad()\n",
    "            model_output = model(input_ids, attn_mask)\n",
    "            logits = model_output['logits']\n",
    "\n",
    "            loss = criterion(logits, labels)\n",
    "            loss.backward()\n",
    "\n",
    "            torch.nn.utils.clip_grad_norm_(model.parameters(), 1.0)  # To prevent exploding gradients\n",
    "\n",
    "            optimizer.step()\n",
    "\n",
    "        if produce_learning_graph:\n",
    "            f1_scores.append(get_f1())\n",
    "\n",
    "    evaluate(model=model, test_data=test_data, labels_dict=_labels_dict, print_summary=True, get_f1_score=False)\n",
    "\n",
    "    x = list(range(len(f1_scores)))\n",
    "    sns.lineplot(x=x, y=f1_scores)\n",
    "\n",
    "    plt.suptitle('Epoch vs. F1 Score', fontsize=20, color='salmon')\n",
    "    plt.xlabel('Epoch', fontsize=16)\n",
    "    plt.ylabel('F1 Score', fontsize=16)\n",
    "\n",
    "    plt.show()\n",
    "\n",
    "\n",
    "def evaluate(model: BertForSequenceClassification, labels_dict: Dict[str, int],\n",
    "             test_data: List[Tuple[torch.Tensor, torch.Tensor, List[int]]],\n",
    "             print_summary: bool, get_f1_score: bool) -> Union[float, None]:\n",
    "    if not print_summary and not get_f1_score:\n",
    "        return None\n",
    "\n",
    "    model.eval()\n",
    "\n",
    "    predictions, true_labels, = [], []\n",
    "    pred_labels = []\n",
    "\n",
    "    for batch in test_data:\n",
    "        input_ids, attn_mask, labels = batch\n",
    "\n",
    "        input_ids = input_ids.to(DEVICE)\n",
    "        attn_mask = attn_mask.to(DEVICE)\n",
    "        labels = np.asarray(labels)\n",
    "\n",
    "        with torch.no_grad():\n",
    "            model_output = model(input_ids, attn_mask)\n",
    "            logits = model_output['logits'].detach().cpu().numpy()\n",
    "\n",
    "            true_labels.append(labels)\n",
    "            predictions.append(logits)\n",
    "\n",
    "    for i in range(len(true_labels)):\n",
    "        pred_labels.append(np.argmax(predictions[i], axis=1))\n",
    "\n",
    "    true_labels = np.concatenate(true_labels).ravel().tolist()\n",
    "    pred_labels = np.concatenate(pred_labels).ravel().tolist()\n",
    "\n",
    "    idx_to_labels = {value: key for key, value in labels_dict.items()}\n",
    "    y_true = list(map(lambda x: idx_to_labels[x], true_labels))\n",
    "    y_pred = list(map(lambda x: idx_to_labels[x], pred_labels))\n",
    "\n",
    "    if print_summary:\n",
    "        print(classification_report(y_true=y_true, y_pred=y_pred, digits=3, zero_division=1))\n",
    "    if get_f1_score:\n",
    "        return f1_score(y_true=y_true, y_pred=y_pred, average='weighted')\n",
    "\n",
    "    return None\n"
   ],
   "metadata": {
    "collapsed": false,
    "pycharm": {
     "name": "#%%\n"
    }
   }
  },
  {
   "cell_type": "code",
   "execution_count": 6,
   "outputs": [
    {
     "name": "stdout",
     "output_type": "stream",
     "text": [
      "                    precision    recall  f1-score   support\n",
      "\n",
      "      Cause-Effect      1.000     0.000     0.000       328\n",
      "   Component-Whole      1.000     0.000     0.000       312\n",
      " Content-Container      0.000     0.000     0.000       192\n",
      "Entity-Destination      1.000     0.000     0.000       292\n",
      "     Entity-Origin      1.000     0.000     0.000       258\n",
      " Instrument-Agency      0.057     0.974     0.108       156\n",
      " Member-Collection      0.081     0.013     0.022       233\n",
      "     Message-Topic      1.000     0.000     0.000       261\n",
      "             Other      1.000     0.000     0.000       454\n",
      "  Product-Producer      1.000     0.000     0.000       231\n",
      "\n",
      "          accuracy                          0.057      2717\n",
      "         macro avg      0.714     0.099     0.013      2717\n",
      "      weighted avg      0.796     0.057     0.008      2717\n",
      "\n"
     ]
    },
    {
     "data": {
      "text/plain": "Epochs:   0%|          | 0/30 [00:00<?, ?it/s]",
      "application/vnd.jupyter.widget-view+json": {
       "version_major": 2,
       "version_minor": 0,
       "model_id": "4fd048f0c1624bb5a71ffdc365a4f272"
      }
     },
     "metadata": {},
     "output_type": "display_data"
    },
    {
     "name": "stdout",
     "output_type": "stream",
     "text": [
      "                    precision    recall  f1-score   support\n",
      "\n",
      "      Cause-Effect      0.902     0.930     0.916       328\n",
      "   Component-Whole      0.792     0.843     0.817       312\n",
      " Content-Container      0.897     0.865     0.881       192\n",
      "Entity-Destination      0.935     0.887     0.910       292\n",
      "     Entity-Origin      0.844     0.837     0.840       258\n",
      " Instrument-Agency      0.876     0.679     0.765       156\n",
      " Member-Collection      0.806     0.858     0.832       233\n",
      "     Message-Topic      0.825     0.831     0.828       261\n",
      "             Other      0.599     0.593     0.596       454\n",
      "  Product-Producer      0.786     0.844     0.814       231\n",
      "\n",
      "          accuracy                          0.808      2717\n",
      "         macro avg      0.826     0.817     0.820      2717\n",
      "      weighted avg      0.810     0.808     0.808      2717\n",
      "\n"
     ]
    },
    {
     "data": {
      "text/plain": "<Figure size 432x288 with 1 Axes>",
      "image/png": "[encoded data removed]"
     },
     "metadata": {},
     "output_type": "display_data"
    },
    {
     "name": "stdout",
     "output_type": "stream",
     "text": [
      "                    precision    recall  f1-score   support\n",
      "\n",
      "      Cause-Effect      0.902     0.930     0.916       328\n",
      "   Component-Whole      0.792     0.843     0.817       312\n",
      " Content-Container      0.897     0.865     0.881       192\n",
      "Entity-Destination      0.935     0.887     0.910       292\n",
      "     Entity-Origin      0.844     0.837     0.840       258\n",
      " Instrument-Agency      0.876     0.679     0.765       156\n",
      " Member-Collection      0.806     0.858     0.832       233\n",
      "     Message-Topic      0.825     0.831     0.828       261\n",
      "             Other      0.599     0.593     0.596       454\n",
      "  Product-Producer      0.786     0.844     0.814       231\n",
      "\n",
      "          accuracy                          0.808      2717\n",
      "         macro avg      0.826     0.817     0.820      2717\n",
      "      weighted avg      0.810     0.808     0.808      2717\n",
      "\n"
     ]
    }
   ],
   "source": [
    "evaluate(model=_model, test_data=_test_sequences, labels_dict=_labels_dict, print_summary=True, get_f1_score=False)\n",
    "\n",
    "train_loop(model=_model, n_epochs=EPOCHS, train_data=_train_sequences, test_data=_test_sequences,\n",
    "           labels_dict=_labels_dict, lr=LEARNING_RATE, produce_learning_graph=True)\n",
    "\n",
    "evaluate(model=_model, test_data=_test_sequences, labels_dict=_labels_dict, print_summary=True, get_f1_score=False)"
   ],
   "metadata": {
    "collapsed": false,
    "pycharm": {
     "name": "#%%\n"
    }
   }
  },
  {
   "cell_type": "code",
   "execution_count": 7,
   "outputs": [
    {
     "data": {
      "text/plain": "4"
     },
     "execution_count": 7,
     "metadata": {},
     "output_type": "execute_result"
    }
   ],
   "source": [
    "_tokenizer_MTB = BertTokenizer.from_pretrained('bert-base-uncased', do_lower_case=True)\n",
    "_tokenizer_MTB.add_tokens(['<e1>', '</e1>', '<e2>', '</e2>'])"
   ],
   "metadata": {
    "collapsed": false,
    "pycharm": {
     "name": "#%%\n"
    }
   }
  },
  {
   "cell_type": "code",
   "execution_count": 8,
   "outputs": [],
   "source": [
    "def prepare_data_MTB(data: List[Tuple[str, str]], tokenizer: BertTokenizer, labels_dict: Dict[str, int],\n",
    "                     batch_size: int) -> List[Tuple[torch.Tensor, torch.Tensor, List[int], torch.Tensor, torch.Tensor]]:\n",
    "    data_sequences = []\n",
    "    # TODO - your code...\n",
    "\n",
    "    e1_id = tokenizer.added_tokens_encoder['<e1>']\n",
    "    e2_id = tokenizer.added_tokens_encoder['<e2>']\n",
    "\n",
    "    batches = [data[idx:idx + batch_size] for idx in range(0, len(data), batch_size)]\n",
    "    for batch in batches:\n",
    "        sentences = list(map(lambda x: x[0], batch))\n",
    "\n",
    "        tokens = tokenizer(sentences, padding=True, truncation=True, return_tensors=\"pt\", add_special_tokens=True)\n",
    "        input_ids, attn_mask = tokens['input_ids'], tokens['attention_mask']\n",
    "\n",
    "        reg = re.compile('\\(e[12],e[12]\\)')  # Remove (e1,e2) and (e2,e1)\n",
    "        labels = list(map(lambda x: reg.sub('', x[1]), batch))\n",
    "\n",
    "        labels_indices = list(map(lambda label: labels_dict[label], labels))\n",
    "\n",
    "        # noinspection PyUnresolvedReferences\n",
    "        e1 = (input_ids == e1_id).nonzero()[:, 1]\n",
    "        # noinspection PyUnresolvedReferences\n",
    "        e2 = (input_ids == e2_id).nonzero()[:, 1]\n",
    "\n",
    "        data_sequences.append((input_ids, attn_mask, labels_indices, e1, e2))\n",
    "\n",
    "    return data_sequences"
   ],
   "metadata": {
    "collapsed": false,
    "pycharm": {
     "name": "#%%\n"
    }
   }
  },
  {
   "cell_type": "code",
   "execution_count": 9,
   "outputs": [],
   "source": [
    "_train_sequences_MTB = prepare_data_MTB(data=_train, tokenizer=_tokenizer_MTB,\n",
    "                                        labels_dict=_labels_dict, batch_size=BATCH_SIZE)\n",
    "_test_sequences_MTB = prepare_data_MTB(data=_test, tokenizer=_tokenizer_MTB,\n",
    "                                       labels_dict=_labels_dict, batch_size=BATCH_SIZE)"
   ],
   "metadata": {
    "collapsed": false,
    "pycharm": {
     "name": "#%%\n"
    }
   }
  },
  {
   "cell_type": "code",
   "execution_count": 10,
   "outputs": [],
   "source": [
    "class MTB(nn.Module):\n",
    "\n",
    "    def __init__(self, base_model_name: str, num_labels: int, tokenizer_length: int):\n",
    "        super().__init__()\n",
    "\n",
    "        config = AutoConfig.from_pretrained(pretrained_model_name_or_path=base_model_name)\n",
    "        config.num_labels = num_labels\n",
    "\n",
    "        self.bert = AutoModel.from_pretrained(pretrained_model_name_or_path=base_model_name, config=config)\n",
    "        self.bert.resize_token_embeddings(tokenizer_length)\n",
    "\n",
    "        self.num_labels = config.num_labels\n",
    "        self.hidden_size = config.hidden_size\n",
    "\n",
    "        self.classifier = nn.Linear(in_features=self.hidden_size * 2, out_features=self.num_labels)\n",
    "\n",
    "    def forward(self, input_ids: torch.Tensor, attention_mask: torch.Tensor, index: torch.Tensor) -> torch.Tensor:\n",
    "        e1_indices = index[0].unsqueeze(-1)\n",
    "        e1_indices = e1_indices.repeat(1, self.hidden_size).unsqueeze(1)\n",
    "\n",
    "        e2_indices = index[1].unsqueeze(-1)\n",
    "        e2_indices = e2_indices.repeat(1, self.hidden_size).unsqueeze(1)\n",
    "\n",
    "        outputs = self.bert(input_ids, attention_mask=attention_mask, output_hidden_states=True)\n",
    "\n",
    "        hidden_states_last = outputs.hidden_states[12]\n",
    "\n",
    "        e1_hidden_states = torch.gather(hidden_states_last, 1, e1_indices)\n",
    "        e2_hidden_states = torch.gather(hidden_states_last, 1, e2_indices)\n",
    "\n",
    "        e1_hidden_states = torch.squeeze(e1_hidden_states, dim=1)\n",
    "        e2_hidden_states = torch.squeeze(e2_hidden_states, dim=1)\n",
    "\n",
    "        e1_e2_hidden_states = torch.cat((e1_hidden_states, e2_hidden_states), dim=1)\n",
    "\n",
    "        output = self.classifier(e1_e2_hidden_states)\n",
    "\n",
    "        return output\n",
    "\n",
    "\n",
    "def train_loop_MTB(model: BertForSequenceClassification, n_epochs: int,\n",
    "                   train_data: List[Tuple[torch.Tensor, torch.Tensor, List[int]]],\n",
    "                   test_data: Union[List[Tuple[torch.Tensor, torch.Tensor, List[int]]], None],\n",
    "                   labels_dict: Dict[str, int], lr: float, produce_learning_graph: bool):\n",
    "    criterion = nn.CrossEntropyLoss()\n",
    "    optimizer = torch.optim.Adam(get_parameters(model.named_parameters()), lr=lr)\n",
    "\n",
    "    model.train()\n",
    "\n",
    "    get_f1 = lambda: evaluate_MTB(model=model, test_data=test_data, labels_dict=labels_dict,\n",
    "                                  print_summary=False, get_f1_score=True)\n",
    "    f1_scores = [get_f1()] if produce_learning_graph else []\n",
    "\n",
    "    for _ in tqdm(range(n_epochs), 'Epochs'):\n",
    "        for step, batch in enumerate(train_data):\n",
    "            input_ids, attn_mask, labels, e1, e2 = batch\n",
    "\n",
    "            input_ids = input_ids.to(DEVICE)\n",
    "            attn_mask = attn_mask.to(DEVICE)\n",
    "            labels = torch.tensor(labels).to(DEVICE)\n",
    "            e1 = e1.to(DEVICE)\n",
    "            e2 = e2.to(DEVICE)\n",
    "\n",
    "            model.zero_grad()\n",
    "\n",
    "            logits = model(input_ids, attn_mask, (e1, e2))\n",
    "\n",
    "            loss = criterion(logits, labels)\n",
    "            loss.backward()\n",
    "\n",
    "            torch.nn.utils.clip_grad_norm_(model.parameters(), 1.0)  # To prevent exploding gradients\n",
    "\n",
    "            optimizer.step()\n",
    "\n",
    "        if produce_learning_graph:\n",
    "            f1_scores.append(get_f1())\n",
    "\n",
    "    evaluate_MTB(model=model, test_data=test_data, labels_dict=_labels_dict, print_summary=True, get_f1_score=False)\n",
    "\n",
    "    x = list(range(len(f1_scores)))\n",
    "    sns.lineplot(x=x, y=f1_scores)\n",
    "\n",
    "    plt.suptitle('Epoch vs. F1 Score', fontsize=20, color='salmon')\n",
    "    plt.xlabel('Epoch', fontsize=16)\n",
    "    plt.ylabel('F1 Score', fontsize=16)\n",
    "\n",
    "    plt.show()\n",
    "\n",
    "\n",
    "def evaluate_MTB(model: BertForSequenceClassification, labels_dict: Dict[str, int],\n",
    "                 test_data: List[Tuple[torch.Tensor, torch.Tensor, List[int]]],\n",
    "                 print_summary: bool, get_f1_score: bool) -> Union[float, None]:\n",
    "    if not print_summary and not get_f1_score:\n",
    "        return None\n",
    "\n",
    "    model.eval()\n",
    "\n",
    "    predictions, true_labels, = [], []\n",
    "    pred_labels = []\n",
    "\n",
    "    for batch in test_data:\n",
    "        input_ids, attn_mask, labels, e1, e2 = batch\n",
    "        input_ids = input_ids.to(DEVICE)\n",
    "        attn_mask = attn_mask.to(DEVICE)\n",
    "        labels = np.asarray(labels)\n",
    "        e1 = e1.to(DEVICE)\n",
    "        e2 = e2.to(DEVICE)\n",
    "\n",
    "        with torch.no_grad():\n",
    "            logits = model(input_ids, attn_mask, (e1, e2))\n",
    "            logits = torch.log_softmax(logits, dim=1).detach().cpu().numpy()\n",
    "\n",
    "            predictions.append(logits)\n",
    "            true_labels.append(labels)\n",
    "\n",
    "    for i in range(len(true_labels)):\n",
    "        pred_labels.append(np.argmax(predictions[i], axis=1))\n",
    "\n",
    "    pred_labels = np.concatenate(pred_labels).ravel().tolist()\n",
    "    true_labels = np.concatenate(true_labels).ravel().tolist()\n",
    "\n",
    "    idx_to_labels = {value: key for key, value in labels_dict.items()}\n",
    "    y_true = list(map(lambda x: idx_to_labels[x], true_labels))\n",
    "    y_pred = list(map(lambda x: idx_to_labels[x], pred_labels))\n",
    "\n",
    "    if print_summary:\n",
    "        print(classification_report(y_true=y_true, y_pred=y_pred, digits=3, zero_division=1))\n",
    "    if get_f1_score:\n",
    "        return f1_score(y_true=y_true, y_pred=y_pred, average='weighted')\n",
    "\n",
    "    return None"
   ],
   "metadata": {
    "collapsed": false,
    "pycharm": {
     "name": "#%%\n"
    }
   }
  },
  {
   "cell_type": "code",
   "execution_count": 11,
   "outputs": [
    {
     "name": "stderr",
     "output_type": "stream",
     "text": [
      "Some weights of the model checkpoint at bert-base-uncased were not used when initializing BertModel: ['cls.seq_relationship.weight', 'cls.predictions.transform.LayerNorm.bias', 'cls.predictions.transform.dense.bias', 'cls.predictions.decoder.weight', 'cls.predictions.transform.dense.weight', 'cls.seq_relationship.bias', 'cls.predictions.bias', 'cls.predictions.transform.LayerNorm.weight']\n",
      "- This IS expected if you are initializing BertModel from the checkpoint of a model trained on another task or with another architecture (e.g. initializing a BertForSequenceClassification model from a BertForPreTraining model).\n",
      "- This IS NOT expected if you are initializing BertModel from the checkpoint of a model that you expect to be exactly identical (initializing a BertForSequenceClassification model from a BertForSequenceClassification model).\n"
     ]
    },
    {
     "name": "stdout",
     "output_type": "stream",
     "text": [
      "                    precision    recall  f1-score   support\n",
      "\n",
      "      Cause-Effect      0.032     0.006     0.010       328\n",
      "   Component-Whole      0.082     0.131     0.101       312\n",
      " Content-Container      0.000     0.000     0.000       192\n",
      "Entity-Destination      0.046     0.041     0.043       292\n",
      "     Entity-Origin      0.118     0.070     0.088       258\n",
      " Instrument-Agency      0.037     0.077     0.050       156\n",
      " Member-Collection      0.023     0.004     0.007       233\n",
      "     Message-Topic      0.103     0.138     0.118       261\n",
      "             Other      0.267     0.009     0.017       454\n",
      "  Product-Producer      0.067     0.238     0.105       231\n",
      "\n",
      "          accuracy                          0.067      2717\n",
      "         macro avg      0.078     0.071     0.054      2717\n",
      "      weighted avg      0.094     0.067     0.052      2717\n",
      "\n"
     ]
    },
    {
     "data": {
      "text/plain": "Epochs:   0%|          | 0/30 [00:00<?, ?it/s]",
      "application/vnd.jupyter.widget-view+json": {
       "version_major": 2,
       "version_minor": 0,
       "model_id": "e8a9c6e727a54c26b90b403c759dc5a6"
      }
     },
     "metadata": {},
     "output_type": "display_data"
    },
    {
     "name": "stdout",
     "output_type": "stream",
     "text": [
      "                    precision    recall  f1-score   support\n",
      "\n",
      "      Cause-Effect      0.883     0.918     0.900       328\n",
      "   Component-Whole      0.826     0.837     0.831       312\n",
      " Content-Container      0.885     0.839     0.861       192\n",
      "Entity-Destination      0.898     0.904     0.901       292\n",
      "     Entity-Origin      0.826     0.810     0.818       258\n",
      " Instrument-Agency      0.898     0.679     0.774       156\n",
      " Member-Collection      0.750     0.901     0.819       233\n",
      "     Message-Topic      0.828     0.923     0.873       261\n",
      "             Other      0.577     0.537     0.556       454\n",
      "  Product-Producer      0.863     0.818     0.840       231\n",
      "\n",
      "          accuracy                          0.805      2717\n",
      "         macro avg      0.823     0.817     0.817      2717\n",
      "      weighted avg      0.804     0.805     0.802      2717\n",
      "\n"
     ]
    },
    {
     "data": {
      "text/plain": "<Figure size 432x288 with 1 Axes>",
      "image/png": "[encoded data removed]"
     },
     "metadata": {},
     "output_type": "display_data"
    },
    {
     "name": "stdout",
     "output_type": "stream",
     "text": [
      "                    precision    recall  f1-score   support\n",
      "\n",
      "      Cause-Effect      0.883     0.918     0.900       328\n",
      "   Component-Whole      0.826     0.837     0.831       312\n",
      " Content-Container      0.885     0.839     0.861       192\n",
      "Entity-Destination      0.898     0.904     0.901       292\n",
      "     Entity-Origin      0.826     0.810     0.818       258\n",
      " Instrument-Agency      0.898     0.679     0.774       156\n",
      " Member-Collection      0.750     0.901     0.819       233\n",
      "     Message-Topic      0.828     0.923     0.873       261\n",
      "             Other      0.577     0.537     0.556       454\n",
      "  Product-Producer      0.863     0.818     0.840       231\n",
      "\n",
      "          accuracy                          0.805      2717\n",
      "         macro avg      0.823     0.817     0.817      2717\n",
      "      weighted avg      0.804     0.805     0.802      2717\n",
      "\n"
     ]
    }
   ],
   "source": [
    "_model_MTB = MTB(base_model_name='bert-base-uncased', num_labels=NUM_LABELS,\n",
    "                 tokenizer_length=len(_tokenizer_MTB)).to(DEVICE)\n",
    "\n",
    "evaluate_MTB(model=_model_MTB, test_data=_test_sequences_MTB, labels_dict=_labels_dict,\n",
    "             print_summary=True, get_f1_score=False)\n",
    "\n",
    "train_loop_MTB(model=_model_MTB, n_epochs=EPOCHS, train_data=_train_sequences_MTB, test_data=_test_sequences_MTB,\n",
    "               labels_dict=_labels_dict, lr=LEARNING_RATE, produce_learning_graph=True)\n",
    "\n",
    "evaluate_MTB(model=_model_MTB, test_data=_test_sequences_MTB, labels_dict=_labels_dict,\n",
    "             print_summary=True, get_f1_score=False)"
   ],
   "metadata": {
    "collapsed": false,
    "pycharm": {
     "name": "#%%\n"
    }
   }
  }
 ],
 "metadata": {
  "kernelspec": {
   "display_name": "Python 3",
   "language": "python",
   "name": "python3"
  },
  "language_info": {
   "codemirror_mode": {
    "name": "ipython",
    "version": 2
   },
   "file_extension": ".py",
   "mimetype": "text/x-python",
   "name": "python",
   "nbconvert_exporter": "python",
   "pygments_lexer": "ipython2",
   "version": "2.7.6"
  }
 },
 "nbformat": 4,
 "nbformat_minor": 0
}