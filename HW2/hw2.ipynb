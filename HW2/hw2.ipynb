{
 "cells": [
  {
   "cell_type": "code",
   "execution_count": 4,
   "outputs": [],
   "source": [
    "import ssl\n",
    "from typing import Tuple, List\n",
    "from os.path import join as pj\n",
    "\n",
    "try:\n",
    "    _create_unverified_https_context = ssl._create_unverified_context\n",
    "except AttributeError:\n",
    "    pass\n",
    "else:\n",
    "    ssl._create_default_https_context = _create_unverified_https_context\n",
    "\n",
    "from time import time\n",
    "import matplotlib.pyplot as plt\n",
    "import pandas as pd\n",
    "\n",
    "import numpy as np\n",
    "import operator\n",
    "import nltk\n",
    "from nltk.corpus import treebank\n",
    "\n",
    "import conllutils"
   ],
   "metadata": {
    "collapsed": false,
    "pycharm": {
     "name": "#%%\n"
    }
   }
  },
  {
   "cell_type": "code",
   "execution_count": 29,
   "outputs": [],
   "source": [
    "def get_dataset(file_path: str) -> List[Tuple[str, str]]:\n",
    "    data = []\n",
    "    for s in conllutils.read_conllu(file=file_path):\n",
    "        data.append([(s[i]['form'], s[i]['xpos']) for i in range(len(s)) if not isinstance(s[i]['id'], tuple)])\n",
    "\n",
    "    return data"
   ],
   "metadata": {
    "collapsed": false,
    "pycharm": {
     "name": "#%%\n"
    }
   }
  },
  {
   "cell_type": "code",
   "execution_count": 31,
   "outputs": [],
   "source": [
    "train_data = get_dataset(file_path=pj('UD_English-GUM', 'en_gum-ud-train.conllu'))\n",
    "dev_data = get_dataset(file_path=pj('UD_English-GUM', 'en_gum-ud-train.conllu'))\n",
    "test_data = get_dataset(file_path=pj('UD_English-GUM', 'en_gum-ud-train.conllu'))"
   ],
   "metadata": {
    "collapsed": false,
    "pycharm": {
     "name": "#%%\n"
    }
   }
  },
  {
   "cell_type": "code",
   "execution_count": 46,
   "outputs": [
    {
     "data": {
      "text/plain": "{'Training Time': 0.04539632797241211,\n 'Evaluating Time': 0.015420913696289062,\n 'Word Accuracy': 0.8166585060660465,\n 'Sentence Accuracy': 0.07685512367491167}"
     },
     "execution_count": 46,
     "metadata": {},
     "output_type": "execute_result"
    }
   ],
   "source": [
    "class simple_tagger:\n",
    "\n",
    "    def get_word_map_and_tag_map(self, data):\n",
    "        '''\n",
    "        Input: treebank sentences\n",
    "        Output:\n",
    "                word_map - dict with all counters of tags\n",
    "                tag_map - count tags appearances\n",
    "        '''\n",
    "        word_map = {}\n",
    "        tag_map = {}\n",
    "\n",
    "        for sentence in data:\n",
    "            for word, tag in sentence:\n",
    "\n",
    "                # WORD_MAP\n",
    "                if word not in word_map:\n",
    "                    word_map[word] = {}\n",
    "\n",
    "                if tag in word_map[word]:\n",
    "                    word_map[word][tag] += 1\n",
    "                else:\n",
    "                    word_map[word][tag] = 1\n",
    "\n",
    "                # TAG_MAP\n",
    "                if tag not in tag_map:\n",
    "                    tag_map[tag] = 1\n",
    "                else:\n",
    "                    tag_map[tag] += 1\n",
    "        return word_map, tag_map\n",
    "\n",
    "    def train(self, data):\n",
    "        # TODO\n",
    "        self.map = {}\n",
    "        self.max_tag = ''\n",
    "\n",
    "        # use inner function\n",
    "        word_map, tag_map = self.get_word_map_and_tag_map(data)\n",
    "\n",
    "        # initilize most frequent tag\n",
    "        self.max_tag = max(tag_map, key=tag_map.get)\n",
    "\n",
    "        # initilize map with word and it's own max tag\n",
    "        for word in word_map:\n",
    "            tags = word_map[word]\n",
    "            self.map[word] = max(tags, key=tags.get)\n",
    "\n",
    "    def evaluate(self, data):\n",
    "        # TODO\n",
    "        word_successe = 0\n",
    "        word_number = 0\n",
    "        sentence_successe = 0\n",
    "        sentence_number = len(data)\n",
    "\n",
    "        for sentence in data:\n",
    "            word_successe_in_sentence = np.sum([self.map.get(word, self.max_tag) == tag for word, tag in sentence])\n",
    "\n",
    "            word_number += len(sentence)\n",
    "            word_successe += word_successe_in_sentence\n",
    "            sentence_successe += (len(sentence) == word_successe_in_sentence)\n",
    "\n",
    "        return word_successe / word_number, sentence_successe / sentence_number\n",
    "\n",
    "    def get_results(self, train_data, test_data):\n",
    "        r = {}\n",
    "\n",
    "        r['Training Time'] = time()\n",
    "        self.train(train_data)\n",
    "        r['Training Time'] = time() - r['Training Time']\n",
    "\n",
    "        r['Evaluating Time'] = time()\n",
    "        r['Word Accuracy'], r['Sentence Accuracy'] = self.evaluate(test_data)\n",
    "        r['Evaluating Time'] = time() - r['Evaluating Time']\n",
    "\n",
    "        return r\n",
    "\n",
    "\n",
    "st = simple_tagger()\n",
    "results_st = st.get_results(train_data, test_data)\n",
    "results_st"
   ],
   "metadata": {
    "collapsed": false,
    "pycharm": {
     "name": "#%%\n"
    }
   }
  },
  {
   "cell_type": "code",
   "execution_count": 48,
   "outputs": [
    {
     "data": {
      "text/plain": "{'Training Time': 0.09879159927368164,\n 'Evaluating Time': 4.177754163742065,\n 'Word Accuracy': 0.7975082966106305,\n 'Sentence Accuracy': 0.07773851590106007}"
     },
     "execution_count": 48,
     "metadata": {},
     "output_type": "execute_result"
    }
   ],
   "source": [
    "class hmm_tagger:\n",
    "    def get_word_map_and_tag_map(self, data):\n",
    "        '''\n",
    "        Input: treebank sentences\n",
    "        Output:\n",
    "                word_map - dict with all counters of tags\n",
    "                tag_map - count tags appearances\n",
    "        '''\n",
    "        word_map = {}\n",
    "        tag_map = {}\n",
    "\n",
    "        for sentence in data:\n",
    "            for word, tag in sentence:\n",
    "\n",
    "                # WORD_MAP\n",
    "                if word not in word_map:\n",
    "                    word_map[word] = {'id': len(word_map), 'tags': {}}\n",
    "\n",
    "                if tag in word_map[word]['tags']:\n",
    "                    word_map[word]['tags'][tag] += 1\n",
    "                else:\n",
    "                    word_map[word]['tags'][tag] = 1\n",
    "\n",
    "                # TAG_MAP\n",
    "                if tag not in tag_map:\n",
    "                    tag_map[tag] = {'id': len(tag_map), 'count': 1}\n",
    "                else:\n",
    "                    tag_map[tag]['count'] += 1\n",
    "\n",
    "        return word_map, tag_map\n",
    "\n",
    "    def train(self, data):\n",
    "        # TODO\n",
    "\n",
    "        # unique\n",
    "        word_map, tag_map = self.get_word_map_and_tag_map(data)\n",
    "\n",
    "        # mapping ID to WORD\n",
    "        from_id_to_word = {word_map[word]['id']: word for word in word_map.keys()}\n",
    "\n",
    "        # mapping ID to TAG\n",
    "        from_id_to_tag = {tag_map[tag]['id']: tag for tag in tag_map}\n",
    "\n",
    "        # mapping WORD to ID\n",
    "        from_word_to_id = dict(zip(from_id_to_word.values(), from_id_to_word.keys()))\n",
    "\n",
    "        # mapping WORD to ID\n",
    "        from_tag_to_id = dict(zip(from_id_to_tag.values(), from_id_to_tag.keys()))\n",
    "\n",
    "        # unique tag id\n",
    "        unique_tag_id = list(from_id_to_tag.keys())\n",
    "\n",
    "        # create pi\n",
    "        tag_map_values = np.array([tag['count'] for tag in tag_map.values()])\n",
    "        pi = tag_map_values / tag_map_values.sum()\n",
    "\n",
    "        # create B\n",
    "        B = np.zeros((len(tag_map), len(word_map)))\n",
    "        for word in word_map.values():\n",
    "            for tag in word['tags']:\n",
    "                B[tag_map[tag]['id'], word['id']] = word['tags'][tag]\n",
    "        B = B / B.sum(axis=1)[:, np.newaxis]\n",
    "\n",
    "        # create A\n",
    "        A = np.zeros((len(tag_map), len(tag_map)))\n",
    "        for sentence in train_data:\n",
    "            for current_word, next_word in zip(sentence[:-1], sentence[1:]):\n",
    "                A[tag_map[current_word[1]]['id'], tag_map[next_word[1]]['id']] += 1\n",
    "        A = A / A.sum(axis=1)[:, np.newaxis]\n",
    "\n",
    "        # init params\n",
    "        #         self.word_map = word_map\n",
    "        #         self.tag_map = tag_map\n",
    "        #         self.from_id_to_word = from_id_to_word\n",
    "        #         self.from_id_to_tag = from_id_to_tag\n",
    "        self.from_word_to_id = from_word_to_id\n",
    "        self.from_tag_to_id = from_tag_to_id\n",
    "        self.unique_tag_id = unique_tag_id\n",
    "        self.A = A\n",
    "        self.B = B\n",
    "        self.pi = pi\n",
    "\n",
    "        # Viterbi\n",
    "\n",
    "    def viterbi(self, word_list):\n",
    "        A = self.A\n",
    "        B = self.B\n",
    "        Pi = self.pi\n",
    "\n",
    "        # initialization\n",
    "        T = len(word_list)\n",
    "        N = A.shape[0]  # number of tags\n",
    "\n",
    "        delta_table = np.zeros((N, T))  # initialise delta table\n",
    "        psi = np.zeros((N, T))  # initialise the best path table\n",
    "\n",
    "        delta_table[:, 0] = B[:, word_list[0]] * Pi\n",
    "\n",
    "        for t in range(1, T):\n",
    "            for s in range(0, N):\n",
    "                trans_p = delta_table[:, t - 1] * A[:, s]\n",
    "                psi[s, t], delta_table[s, t] = max(enumerate(trans_p), key=operator.itemgetter(1))\n",
    "                delta_table[s, t] = delta_table[s, t] * B[s, word_list[t]]\n",
    "\n",
    "        # Back tracking\n",
    "        seq = np.zeros(T)\n",
    "        seq[T - 1] = delta_table[:, T - 1].argmax()\n",
    "        for t in range(T - 1, 0, -1):\n",
    "            #       print(seq[t])\n",
    "            seq[t - 1] = psi[int(seq[t]), t]\n",
    "\n",
    "        return seq\n",
    "\n",
    "    def evaluate(self, data):\n",
    "        # TODO\n",
    "        word_true = 0\n",
    "        word_count = 0\n",
    "        sentence_true = 0\n",
    "\n",
    "        for sentence in data:\n",
    "\n",
    "            length = len(sentence)\n",
    "            tags = np.zeros(length)\n",
    "            words = np.zeros(length)\n",
    "\n",
    "            for i, (word, tag) in zip(range(length), sentence):\n",
    "                words[i] = self.from_word_to_id.get(word, -1)\n",
    "                tags[i] = self.from_tag_to_id.get(tag, -1)\n",
    "\n",
    "            split_points = np.where(words == -1)[0]\n",
    "\n",
    "            # in case there is no -1 in the beginning\n",
    "            if 0 not in split_points:\n",
    "                split_points = np.append([0], split_points)\n",
    "\n",
    "            # in case there is no -1 in the end\n",
    "            if length not in split_points:\n",
    "                split_points = np.append(split_points, [length])\n",
    "\n",
    "            # create pairs of sequences\n",
    "            sequences = [words[i:j] for i, j in zip(split_points, split_points[1:])]\n",
    "            result = np.array([])  # I append indtead of gennerate initial randoms which takes time\n",
    "\n",
    "            # iterate over all sequences\n",
    "            for seq in sequences:\n",
    "                if seq[0] == -1:  # there is -1 in seq\n",
    "                    result = np.append(result, np.random.choice(self.unique_tag_id, size=1))\n",
    "                    if len(seq[1:]):  # seq is not empty\n",
    "                        result = np.append(result, self.viterbi(word_list=list(map(int, seq[1:]))))\n",
    "                else:  # no -1 at all\n",
    "                    result = np.append(result, self.viterbi(word_list=list(map(int, seq))))\n",
    "\n",
    "            word_count += length\n",
    "            word_true += np.sum(result == tags)\n",
    "            sentence_true += (np.sum(result == tags) == length)\n",
    "\n",
    "        return word_true / word_count, sentence_true / len(data)\n",
    "\n",
    "    def get_results(self, train_data, test_data):\n",
    "        r = {}\n",
    "\n",
    "        r['Training Time'] = time()\n",
    "        self.train(train_data)\n",
    "        r['Training Time'] = time() - r['Training Time']\n",
    "\n",
    "        r['Evaluating Time'] = time()\n",
    "        r['Word Accuracy'], r['Sentence Accuracy'] = self.evaluate(test_data)\n",
    "        r['Evaluating Time'] = time() - r['Evaluating Time']\n",
    "\n",
    "        return r\n",
    "\n",
    "\n",
    "hmm = hmm_tagger()\n",
    "results_hmm = hmm.get_results(train_data, test_data)\n",
    "results_hmm"
   ],
   "metadata": {
    "collapsed": false,
    "pycharm": {
     "name": "#%%\n"
    }
   }
  },
  {
   "cell_type": "code",
   "execution_count": 45,
   "outputs": [
    {
     "data": {
      "text/plain": "{'Training Time': 0.3346383571624756,\n 'Evaluating Time': 33.99832463264465,\n 'Word Accuracy': 0.8054512812142973,\n 'Sentence Accuracy': 0.07597173144876325}"
     },
     "execution_count": 45,
     "metadata": {},
     "output_type": "execute_result"
    }
   ],
   "source": [
    "class tnt_tagger:\n",
    "    def __init__(self):\n",
    "        from nltk.tag import tnt\n",
    "        self.tnt_pos_tagger = tnt.TnT()\n",
    "\n",
    "    def train(self, data):\n",
    "        self.tnt_pos_tagger.train(data)\n",
    "\n",
    "    def evaluate(self, data):\n",
    "        word_true = 0\n",
    "        word_count = 0\n",
    "        sentence_true = 0\n",
    "\n",
    "        for sentence in data:\n",
    "            length = len(sentence)\n",
    "            words = [word for word, _ in sentence]\n",
    "            tags = [tag for _, tag in sentence]\n",
    "\n",
    "            result = self.tnt_pos_tagger.tag(words)\n",
    "            sentence_true += (result == sentence)\n",
    "\n",
    "            results_tag = [tag for _, tag in result]\n",
    "\n",
    "            word_true += np.sum([r == t for r, t in zip(results_tag, tags)])\n",
    "            word_count += length\n",
    "\n",
    "        # Note:\n",
    "        #         I'm calculating word accuracy by myself.\n",
    "        #         I could return this: self.tnt_pos_tagger.evaluate(data)\n",
    "        #         But it will call tag function all over again, so it will do the same thing twice.\n",
    "\n",
    "        return word_true / word_count, sentence_true / len(data)\n",
    "\n",
    "    def get_results(self, train_data, test_data):\n",
    "        r = {}\n",
    "\n",
    "        r['Training Time'] = time()\n",
    "        self.train(train_data)\n",
    "        r['Training Time'] = time() - r['Training Time']\n",
    "\n",
    "        r['Evaluating Time'] = time()\n",
    "        r['Word Accuracy'], r['Sentence Accuracy'] = self.evaluate(test_data)\n",
    "        r['Evaluating Time'] = time() - r['Evaluating Time']\n",
    "\n",
    "        return r\n",
    "\n",
    "\n",
    "tnt = tnt_tagger()\n",
    "results_tnt = tnt.get_results(train_data, test_data)\n",
    "results_tnt"
   ],
   "metadata": {
    "collapsed": false,
    "pycharm": {
     "name": "#%%\n"
    }
   }
  },
  {
   "cell_type": "code",
   "execution_count": 47,
   "outputs": [
    {
     "data": {
      "text/plain": "0.8054512812142973"
     },
     "execution_count": 47,
     "metadata": {},
     "output_type": "execute_result"
    }
   ],
   "source": [
    "rr = tnt.tnt_pos_tagger.evaluate(test_data)\n",
    "rr"
   ],
   "metadata": {
    "collapsed": false,
    "pycharm": {
     "name": "#%%\n"
    }
   }
  },
  {
   "cell_type": "code",
   "execution_count": 12,
   "outputs": [
    {
     "name": "stdout",
     "output_type": "stream",
     "text": [
      "        Training Time  Evaluating Time  Word Accuracy  Sentence Accuracy\n",
      "simple       0.732759         0.198928       0.874120           0.079869\n",
      "hmm          1.287485         6.695753       0.864364           0.091904\n",
      "tnt          0.908800        68.412769       0.875545           0.098468\n"
     ]
    },
    {
     "data": {
      "text/plain": "<Figure size 1152x288 with 4 Axes>",
      "image/png": "[encoded data removed]"
     },
     "metadata": {
      "needs_background": "light"
     },
     "output_type": "display_data"
    },
    {
     "data": {
      "text/plain": "<Figure size 1152x288 with 2 Axes>",
      "image/png": "[encoded data removed]"
     },
     "metadata": {
      "needs_background": "light"
     },
     "output_type": "display_data"
    }
   ],
   "source": [
    "df = pd.DataFrame(columns=results_st.keys())\n",
    "\n",
    "df.loc['simple'] = results_st\n",
    "df.loc['hmm'] = results_hmm\n",
    "df.loc['tnt'] = results_tnt\n",
    "\n",
    "cols = df.columns\n",
    "# cols = ['Word Accuracy', 'Sentence Accuracy','Training time', 'Evaluating time']\n",
    "\n",
    "print(df)\n",
    "\n",
    "figure, axes = plt.subplots(1, 4, figsize=(16, 4))\n",
    "for c in range(len(cols)):\n",
    "    df[cols[c]].plot.bar(title=cols[c], ax=axes[c])\n",
    "plt.show()\n",
    "\n",
    "figure, axes = plt.subplots(1, 2, figsize=(16, 4))\n",
    "(df[cols[3]] / df[cols[0]]).plot(title='Reletionship - Training Time & Sentemce Accuracy', ax=axes[0])\n",
    "(df[cols[3]] / df[cols[1]]).plot(title='Reletionship - Evaluating Time & Sentemce Accuracy', ax=axes[1])\n",
    "\n",
    "plt.show()"
   ],
   "metadata": {
    "collapsed": false,
    "pycharm": {
     "name": "#%%\n"
    }
   }
  }
 ],
 "metadata": {
  "kernelspec": {
   "display_name": "Python 3",
   "language": "python",
   "name": "python3"
  },
  "language_info": {
   "codemirror_mode": {
    "name": "ipython",
    "version": 2
   },
   "file_extension": ".py",
   "mimetype": "text/x-python",
   "name": "python",
   "nbconvert_exporter": "python",
   "pygments_lexer": "ipython2",
   "version": "2.7.6"
  }
 },
 "nbformat": 4,
 "nbformat_minor": 0
}